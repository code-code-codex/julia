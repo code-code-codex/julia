{
 "cells": [
  {
   "cell_type": "markdown",
   "id": "7be3a967-a6ca-4c4b-bd22-329a6fdf4f83",
   "metadata": {
    "tags": []
   },
   "source": [
    "cheatsheet\n",
    "# Julia | Fondamentaux\n",
    "## Affectation d'une variable"
   ]
  },
  {
   "cell_type": "code",
   "execution_count": 1,
   "id": "56f3a914-71d6-4d1f-8527-16e5dba73fc3",
   "metadata": {},
   "outputs": [
    {
     "data": {
      "text/plain": [
       "12"
      ]
     },
     "metadata": {},
     "output_type": "display_data"
    }
   ],
   "source": [
    "v = 12"
   ]
  },
  {
   "cell_type": "code",
   "execution_count": 2,
   "id": "7eda09f3-7d88-4d0e-ae0b-ec4382623e27",
   "metadata": {},
   "outputs": [
    {
     "data": {
      "text/plain": [
       "(1, \"A\", [1, 2, 3])"
      ]
     },
     "metadata": {},
     "output_type": "display_data"
    }
   ],
   "source": [
    "x, y, z = 1, \"A\", [1,2,3]"
   ]
  },
  {
   "cell_type": "code",
   "execution_count": 3,
   "id": "b7905323-4a9f-4145-8700-a9fb60095ab7",
   "metadata": {},
   "outputs": [
    {
     "data": {
      "text/plain": [
       "1"
      ]
     },
     "metadata": {},
     "output_type": "display_data"
    }
   ],
   "source": [
    "x"
   ]
  },
  {
   "cell_type": "code",
   "execution_count": 4,
   "id": "eec37b71-a36d-44b1-9a7a-c13aaa54420f",
   "metadata": {},
   "outputs": [
    {
     "data": {
      "text/plain": [
       "\"A\""
      ]
     },
     "metadata": {},
     "output_type": "display_data"
    }
   ],
   "source": [
    "y"
   ]
  },
  {
   "cell_type": "code",
   "execution_count": 5,
   "id": "cc735bcc-a470-4245-9062-3337989e4577",
   "metadata": {},
   "outputs": [
    {
     "data": {
      "text/plain": [
       "3-element Vector{Int64}:\n",
       " 1\n",
       " 2\n",
       " 3"
      ]
     },
     "metadata": {},
     "output_type": "display_data"
    }
   ],
   "source": [
    "z"
   ]
  },
  {
   "cell_type": "markdown",
   "id": "e270ee1d-f9b0-4075-8941-967ccf28f993",
   "metadata": {},
   "source": [
    "## Constante"
   ]
  },
  {
   "cell_type": "code",
   "execution_count": 6,
   "id": "1357e19c-93b3-4068-9d3c-81a06693547f",
   "metadata": {},
   "outputs": [
    {
     "data": {
      "text/plain": [
       "\"world\""
      ]
     },
     "metadata": {},
     "output_type": "display_data"
    }
   ],
   "source": [
    "const hello = \"world\""
   ]
  },
  {
   "cell_type": "markdown",
   "id": "b7ffaf15-7e7d-4b8c-888c-6fc10f91abe1",
   "metadata": {},
   "source": [
    "## Commentaires"
   ]
  },
  {
   "cell_type": "code",
   "execution_count": 7,
   "id": "4ebba320-cc58-49f9-83d1-77217f5b556b",
   "metadata": {},
   "outputs": [
    {
     "data": {
      "text/plain": [
       "12"
      ]
     },
     "metadata": {},
     "output_type": "display_data"
    }
   ],
   "source": [
    "v = 12 # un commentaire de fin de ligne\n",
    "#=\n",
    "    Un bloc de commentaire\n",
    "    qui peut s'etendre \n",
    "    sur plusieurs\n",
    "    lignes\n",
    "=#"
   ]
  },
  {
   "cell_type": "markdown",
   "id": "75eebe86-9729-4119-98cc-c4c63e1425ab",
   "metadata": {},
   "source": [
    "## Chainage"
   ]
  },
  {
   "cell_type": "code",
   "execution_count": 8,
   "id": "b1f67ee0-b9fc-4037-80a4-305f8a6fdd00",
   "metadata": {},
   "outputs": [
    {
     "data": {
      "text/plain": [
       "1"
      ]
     },
     "metadata": {},
     "output_type": "display_data"
    }
   ],
   "source": [
    "x = y = z = 1"
   ]
  },
  {
   "cell_type": "code",
   "execution_count": 9,
   "id": "3ac1dfa6-a839-4d01-8f32-26f544380f92",
   "metadata": {},
   "outputs": [
    {
     "data": {
      "text/plain": [
       "1"
      ]
     },
     "metadata": {},
     "output_type": "display_data"
    }
   ],
   "source": [
    "x"
   ]
  },
  {
   "cell_type": "code",
   "execution_count": 10,
   "id": "e93a2fef-cfa4-4256-a51b-6c5903753848",
   "metadata": {},
   "outputs": [
    {
     "data": {
      "text/plain": [
       "1"
      ]
     },
     "metadata": {},
     "output_type": "display_data"
    }
   ],
   "source": [
    "y"
   ]
  },
  {
   "cell_type": "code",
   "execution_count": 11,
   "id": "0996136d-91b0-422d-aaac-2f13a789f889",
   "metadata": {},
   "outputs": [
    {
     "data": {
      "text/plain": [
       "1"
      ]
     },
     "metadata": {},
     "output_type": "display_data"
    }
   ],
   "source": [
    "z"
   ]
  },
  {
   "cell_type": "code",
   "execution_count": 12,
   "id": "02271ca1-45b3-4a06-a067-5a3efae0e7ee",
   "metadata": {},
   "outputs": [
    {
     "data": {
      "text/plain": [
       "true"
      ]
     },
     "metadata": {},
     "output_type": "display_data"
    }
   ],
   "source": [
    "0<x<2"
   ]
  },
  {
   "cell_type": "markdown",
   "id": "172f7d43-cb10-467a-ae40-0af5edf46ad1",
   "metadata": {},
   "source": [
    "## Déclarer une fonction"
   ]
  },
  {
   "cell_type": "code",
   "execution_count": 13,
   "id": "63e81483-7772-4049-ab94-dab70f2a8192",
   "metadata": {},
   "outputs": [
    {
     "data": {
      "text/plain": [
       "5"
      ]
     },
     "metadata": {},
     "output_type": "display_data"
    }
   ],
   "source": [
    "function myFunction(i)\n",
    "    return i+2\n",
    "end\n",
    "\n",
    "myFunction(3)"
   ]
  },
  {
   "cell_type": "markdown",
   "id": "0d299008-ccc5-4211-b746-09555a070926",
   "metadata": {},
   "source": [
    "## Symboles LaTeX"
   ]
  },
  {
   "cell_type": "code",
   "execution_count": 14,
   "id": "37b15ce5-440c-4400-a164-d3298e32da7e",
   "metadata": {},
   "outputs": [
    {
     "data": {
      "text/plain": [
       "10"
      ]
     },
     "metadata": {},
     "output_type": "display_data"
    }
   ],
   "source": [
    "# \\beta [+ tabulation] =>\n",
    "β = 10"
   ]
  },
  {
   "cell_type": "code",
   "execution_count": 15,
   "id": "91963c6f-285b-4c1a-a801-f8651ac2430f",
   "metadata": {},
   "outputs": [
    {
     "data": {
      "text/plain": [
       "10"
      ]
     },
     "metadata": {},
     "output_type": "display_data"
    }
   ],
   "source": [
    "β"
   ]
  },
  {
   "cell_type": "code",
   "execution_count": 16,
   "id": "4329b061-4b2d-46b9-8938-45f2cf1c4a1c",
   "metadata": {},
   "outputs": [
    {
     "data": {
      "text/plain": [
       "2×3 Matrix{Int64}:\n",
       " 1  2  3\n",
       " 4  5  6"
      ]
     },
     "metadata": {},
     "output_type": "display_data"
    }
   ],
   "source": [
    "m = [1 2 3\n",
    "     4 5 6]"
   ]
  },
  {
   "cell_type": "code",
   "execution_count": 17,
   "id": "d09135fd-f6ca-4c4b-ac87-994d698f07be",
   "metadata": {},
   "outputs": [
    {
     "data": {
      "text/plain": [
       "2×3 Matrix{Int64}:\n",
       " 2  3  4\n",
       " 5  6  7"
      ]
     },
     "metadata": {},
     "output_type": "display_data"
    }
   ],
   "source": [
    "map(x -> x+1, m)"
   ]
  },
  {
   "cell_type": "code",
   "execution_count": 18,
   "id": "f5c531ee-9cab-4f54-b7ff-2cd0840b7ed5",
   "metadata": {},
   "outputs": [
    {
     "data": {
      "text/plain": [
       "2×3 Matrix{Int64}:\n",
       " 2  3  4\n",
       " 5  6  7"
      ]
     },
     "metadata": {},
     "output_type": "display_data"
    }
   ],
   "source": [
    "map((x) -> x+1, m)"
   ]
  },
  {
   "cell_type": "code",
   "execution_count": 19,
   "id": "b054fbe8-d8ba-4e5a-9826-91a28fe14cb4",
   "metadata": {},
   "outputs": [
    {
     "data": {
      "text/plain": [
       "2×2 Matrix{Tuple{Int64, Int64}}:\n",
       " (1, 2)  (3, 4)\n",
       " (5, 6)  (7, 8)"
      ]
     },
     "metadata": {},
     "output_type": "display_data"
    }
   ],
   "source": [
    "m = [(1,2) (3,4)\n",
    "     (5,6) (7,8)]"
   ]
  },
  {
   "cell_type": "code",
   "execution_count": 20,
   "id": "50feb11f-bdbd-4e26-8663-9860b9695f6a",
   "metadata": {},
   "outputs": [
    {
     "data": {
      "text/plain": [
       "2×2 Matrix{Int64}:\n",
       "  3   7\n",
       " 11  15"
      ]
     },
     "metadata": {},
     "output_type": "display_data"
    }
   ],
   "source": [
    "map((x) -> x[1]+x[2], m)"
   ]
  },
  {
   "cell_type": "code",
   "execution_count": 21,
   "id": "dd3ef24c-10a3-489d-a549-10f58a587d4e",
   "metadata": {},
   "outputs": [
    {
     "data": {
      "text/plain": [
       "(1, 2)"
      ]
     },
     "metadata": {},
     "output_type": "display_data"
    }
   ],
   "source": [
    "x, y = (1, 2)"
   ]
  },
  {
   "cell_type": "code",
   "execution_count": 22,
   "id": "89a1de6c-6490-4256-9390-b1988e07009c",
   "metadata": {},
   "outputs": [
    {
     "data": {
      "text/plain": [
       "2"
      ]
     },
     "metadata": {},
     "output_type": "display_data"
    }
   ],
   "source": [
    "y"
   ]
  },
  {
   "cell_type": "code",
   "execution_count": 23,
   "id": "32ccbb33-cf7e-454c-9be8-682a4c50a2a7",
   "metadata": {},
   "outputs": [
    {
     "data": {
      "text/plain": [
       "1"
      ]
     },
     "metadata": {},
     "output_type": "display_data"
    }
   ],
   "source": [
    "1"
   ]
  },
  {
   "cell_type": "code",
   "execution_count": 24,
   "id": "da8d41ff-9195-48d0-8e5e-6e6b4274a0f0",
   "metadata": {},
   "outputs": [
    {
     "data": {
      "text/plain": [
       "Tuple{Int64, Int64}"
      ]
     },
     "metadata": {},
     "output_type": "display_data"
    }
   ],
   "source": [
    "typeof((x, y))"
   ]
  },
  {
   "cell_type": "code",
   "execution_count": 25,
   "id": "67faa97d-e918-45d6-9b81-dcfa4f8abf40",
   "metadata": {},
   "outputs": [],
   "source": []
  }
 ],
 "metadata": {
  "kernelspec": {
   "display_name": "Julia 1.7.2",
   "language": "julia",
   "name": "julia-1.7"
  },
  "language_info": {
   "file_extension": ".jl",
   "mimetype": "application/julia",
   "name": "julia",
   "version": "1.7.2"
  }
 },
 "nbformat": 4,
 "nbformat_minor": 5
}
